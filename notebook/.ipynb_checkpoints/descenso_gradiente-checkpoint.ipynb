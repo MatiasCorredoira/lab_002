{
 "cells": [
  {
   "cell_type": "markdown",
   "metadata": {},
   "source": [
    "### ***Autor: Manuel Matías Corredoira de Soto***"
   ]
  },
  {
   "cell_type": "markdown",
   "metadata": {},
   "source": [
    "#### Para esta tarea se ha pedido programar el descenso del gradiente desde python. Se debe explicar el procedimiento paso a paso para la realización del algoritmo que nos permitirá realizar el descenso.\n",
    "#### Se realizará la tarea bajo el supuesto y la base de datos que nos ha siddo proporcionada para la realización de la tarea\n",
    "\n",
    "\n",
    "\n"
   ]
  },
  {
   "cell_type": "markdown",
   "metadata": {},
   "source": [
    "### Los puntos más importantes para su realización  son:"
   ]
  },
  {
   "cell_type": "markdown",
   "metadata": {},
   "source": [
    " - __Size of Steps took in any direction = Ratio de aprendizaje__\n",
    " - __Gadget tells you height = Función de coste__\n",
    " - __The direction of your steps = Gradiente__"
   ]
  },
  {
   "cell_type": "markdown",
   "metadata": {},
   "source": [
    "### Mostramos en términos gráficos y muy básicos cual será el objetivo de la tarea, minimizar la función de coste, lo cual iremos explicando paso a paso para su mejor compresión"
   ]
  },
  {
   "cell_type": "code",
   "execution_count": 199,
   "metadata": {},
   "outputs": [
    {
     "data": {
      "text/html": [
       "<img src = './data/punto_minimo.png' >\n"
      ],
      "text/plain": [
       "<IPython.core.display.HTML object>"
      ]
     },
     "metadata": {},
     "output_type": "display_data"
    }
   ],
   "source": [
    "%%html\n",
    "<img src = './data/punto_minimo.png' >"
   ]
  },
  {
   "cell_type": "markdown",
   "metadata": {},
   "source": [
    "# Regresión logística y descenso del gradiente"
   ]
  },
  {
   "cell_type": "markdown",
   "metadata": {},
   "source": [
    "#### Se supone que somos administradores de una universidad, y disponemos de 2 exámenes a modo de filtro para poder elegir a los alumnos que se consideran aptos de cara a relizar sus estudios en la misma. Disponemos de una base de datos con las notas de los ineteresados en cada una de las 2 pruebas y el dictamen respecto a su entrada o su denegación."
   ]
  },
  {
   "cell_type": "markdown",
   "metadata": {},
   "source": [
    "## Cargamos las librerías pertinentes"
   ]
  },
  {
   "cell_type": "code",
   "execution_count": 1,
   "metadata": {},
   "outputs": [],
   "source": [
    "import numpy as np\n",
    "import pandas as pd\n",
    "import seaborn as snimport\n",
    "import matplotlib.pyplot as plt"
   ]
  },
  {
   "cell_type": "markdown",
   "metadata": {},
   "source": [
    "#### Visualizamos las primeras observaciones de la base de datos y sus variables"
   ]
  },
  {
   "cell_type": "code",
   "execution_count": 3,
   "metadata": {
    "scrolled": false
   },
   "outputs": [
    {
     "data": {
      "text/html": [
       "<div>\n",
       "<style scoped>\n",
       "    .dataframe tbody tr th:only-of-type {\n",
       "        vertical-align: middle;\n",
       "    }\n",
       "\n",
       "    .dataframe tbody tr th {\n",
       "        vertical-align: top;\n",
       "    }\n",
       "\n",
       "    .dataframe thead th {\n",
       "        text-align: right;\n",
       "    }\n",
       "</style>\n",
       "<table border=\"1\" class=\"dataframe\">\n",
       "  <thead>\n",
       "    <tr style=\"text-align: right;\">\n",
       "      <th></th>\n",
       "      <th>score-1</th>\n",
       "      <th>score-2</th>\n",
       "      <th>label</th>\n",
       "    </tr>\n",
       "  </thead>\n",
       "  <tbody>\n",
       "    <tr>\n",
       "      <th>0</th>\n",
       "      <td>34.623660</td>\n",
       "      <td>78.024693</td>\n",
       "      <td>0</td>\n",
       "    </tr>\n",
       "    <tr>\n",
       "      <th>1</th>\n",
       "      <td>30.286711</td>\n",
       "      <td>43.894998</td>\n",
       "      <td>0</td>\n",
       "    </tr>\n",
       "    <tr>\n",
       "      <th>2</th>\n",
       "      <td>35.847409</td>\n",
       "      <td>72.902198</td>\n",
       "      <td>0</td>\n",
       "    </tr>\n",
       "    <tr>\n",
       "      <th>3</th>\n",
       "      <td>60.182599</td>\n",
       "      <td>86.308552</td>\n",
       "      <td>1</td>\n",
       "    </tr>\n",
       "    <tr>\n",
       "      <th>4</th>\n",
       "      <td>79.032736</td>\n",
       "      <td>75.344376</td>\n",
       "      <td>1</td>\n",
       "    </tr>\n",
       "  </tbody>\n",
       "</table>\n",
       "</div>"
      ],
      "text/plain": [
       "     score-1    score-2  label\n",
       "0  34.623660  78.024693      0\n",
       "1  30.286711  43.894998      0\n",
       "2  35.847409  72.902198      0\n",
       "3  60.182599  86.308552      1\n",
       "4  79.032736  75.344376      1"
      ]
     },
     "execution_count": 3,
     "metadata": {},
     "output_type": "execute_result"
    }
   ],
   "source": [
    "data = pd.read_csv('../data/4_1_data.csv')\n",
    "data.head()"
   ]
  },
  {
   "cell_type": "markdown",
   "metadata": {},
   "source": [
    "#### Cambiamos el nombre de las variables por si resulta necesario para trabajarlas de manera más sencilla."
   ]
  },
  {
   "cell_type": "code",
   "execution_count": 4,
   "metadata": {
    "scrolled": true
   },
   "outputs": [
    {
     "data": {
      "text/html": [
       "<div>\n",
       "<style scoped>\n",
       "    .dataframe tbody tr th:only-of-type {\n",
       "        vertical-align: middle;\n",
       "    }\n",
       "\n",
       "    .dataframe tbody tr th {\n",
       "        vertical-align: top;\n",
       "    }\n",
       "\n",
       "    .dataframe thead th {\n",
       "        text-align: right;\n",
       "    }\n",
       "</style>\n",
       "<table border=\"1\" class=\"dataframe\">\n",
       "  <thead>\n",
       "    <tr style=\"text-align: right;\">\n",
       "      <th></th>\n",
       "      <th>score_1</th>\n",
       "      <th>score_2</th>\n",
       "      <th>label</th>\n",
       "    </tr>\n",
       "  </thead>\n",
       "  <tbody>\n",
       "    <tr>\n",
       "      <th>0</th>\n",
       "      <td>34.623660</td>\n",
       "      <td>78.024693</td>\n",
       "      <td>0</td>\n",
       "    </tr>\n",
       "    <tr>\n",
       "      <th>1</th>\n",
       "      <td>30.286711</td>\n",
       "      <td>43.894998</td>\n",
       "      <td>0</td>\n",
       "    </tr>\n",
       "    <tr>\n",
       "      <th>2</th>\n",
       "      <td>35.847409</td>\n",
       "      <td>72.902198</td>\n",
       "      <td>0</td>\n",
       "    </tr>\n",
       "    <tr>\n",
       "      <th>3</th>\n",
       "      <td>60.182599</td>\n",
       "      <td>86.308552</td>\n",
       "      <td>1</td>\n",
       "    </tr>\n",
       "    <tr>\n",
       "      <th>4</th>\n",
       "      <td>79.032736</td>\n",
       "      <td>75.344376</td>\n",
       "      <td>1</td>\n",
       "    </tr>\n",
       "    <tr>\n",
       "      <th>...</th>\n",
       "      <td>...</td>\n",
       "      <td>...</td>\n",
       "      <td>...</td>\n",
       "    </tr>\n",
       "    <tr>\n",
       "      <th>95</th>\n",
       "      <td>83.489163</td>\n",
       "      <td>48.380286</td>\n",
       "      <td>1</td>\n",
       "    </tr>\n",
       "    <tr>\n",
       "      <th>96</th>\n",
       "      <td>42.261701</td>\n",
       "      <td>87.103851</td>\n",
       "      <td>1</td>\n",
       "    </tr>\n",
       "    <tr>\n",
       "      <th>97</th>\n",
       "      <td>99.315009</td>\n",
       "      <td>68.775409</td>\n",
       "      <td>1</td>\n",
       "    </tr>\n",
       "    <tr>\n",
       "      <th>98</th>\n",
       "      <td>55.340018</td>\n",
       "      <td>64.931938</td>\n",
       "      <td>1</td>\n",
       "    </tr>\n",
       "    <tr>\n",
       "      <th>99</th>\n",
       "      <td>74.775893</td>\n",
       "      <td>89.529813</td>\n",
       "      <td>1</td>\n",
       "    </tr>\n",
       "  </tbody>\n",
       "</table>\n",
       "<p>100 rows × 3 columns</p>\n",
       "</div>"
      ],
      "text/plain": [
       "      score_1    score_2  label\n",
       "0   34.623660  78.024693      0\n",
       "1   30.286711  43.894998      0\n",
       "2   35.847409  72.902198      0\n",
       "3   60.182599  86.308552      1\n",
       "4   79.032736  75.344376      1\n",
       "..        ...        ...    ...\n",
       "95  83.489163  48.380286      1\n",
       "96  42.261701  87.103851      1\n",
       "97  99.315009  68.775409      1\n",
       "98  55.340018  64.931938      1\n",
       "99  74.775893  89.529813      1\n",
       "\n",
       "[100 rows x 3 columns]"
      ]
     },
     "execution_count": 4,
     "metadata": {},
     "output_type": "execute_result"
    }
   ],
   "source": [
    "data= data.rename({'score-1':'score_1','score-2':'score_2'},axis=1)\n",
    "data"
   ]
  },
  {
   "cell_type": "markdown",
   "metadata": {},
   "source": [
    "#### Comprobamos la existencia de posibles valores nulos en las columnas"
   ]
  },
  {
   "cell_type": "code",
   "execution_count": 5,
   "metadata": {
    "scrolled": true
   },
   "outputs": [
    {
     "data": {
      "text/plain": [
       "score_1    0\n",
       "score_2    0\n",
       "label      0\n",
       "dtype: int64"
      ]
     },
     "execution_count": 5,
     "metadata": {},
     "output_type": "execute_result"
    }
   ],
   "source": [
    "data.isnull().sum()                        # En este caso no se da la existencia de ninguna"
   ]
  },
  {
   "cell_type": "markdown",
   "metadata": {},
   "source": [
    "#### Pedimos una pequeña descripción de los datos."
   ]
  },
  {
   "cell_type": "code",
   "execution_count": 6,
   "metadata": {},
   "outputs": [
    {
     "data": {
      "text/html": [
       "<div>\n",
       "<style scoped>\n",
       "    .dataframe tbody tr th:only-of-type {\n",
       "        vertical-align: middle;\n",
       "    }\n",
       "\n",
       "    .dataframe tbody tr th {\n",
       "        vertical-align: top;\n",
       "    }\n",
       "\n",
       "    .dataframe thead th {\n",
       "        text-align: right;\n",
       "    }\n",
       "</style>\n",
       "<table border=\"1\" class=\"dataframe\">\n",
       "  <thead>\n",
       "    <tr style=\"text-align: right;\">\n",
       "      <th></th>\n",
       "      <th>score_1</th>\n",
       "      <th>score_2</th>\n",
       "      <th>label</th>\n",
       "    </tr>\n",
       "  </thead>\n",
       "  <tbody>\n",
       "    <tr>\n",
       "      <th>count</th>\n",
       "      <td>100.000000</td>\n",
       "      <td>100.000000</td>\n",
       "      <td>100.000000</td>\n",
       "    </tr>\n",
       "    <tr>\n",
       "      <th>mean</th>\n",
       "      <td>65.644274</td>\n",
       "      <td>66.221998</td>\n",
       "      <td>0.600000</td>\n",
       "    </tr>\n",
       "    <tr>\n",
       "      <th>std</th>\n",
       "      <td>19.458222</td>\n",
       "      <td>18.582783</td>\n",
       "      <td>0.492366</td>\n",
       "    </tr>\n",
       "    <tr>\n",
       "      <th>min</th>\n",
       "      <td>30.058822</td>\n",
       "      <td>30.603263</td>\n",
       "      <td>0.000000</td>\n",
       "    </tr>\n",
       "    <tr>\n",
       "      <th>25%</th>\n",
       "      <td>50.919511</td>\n",
       "      <td>48.179205</td>\n",
       "      <td>0.000000</td>\n",
       "    </tr>\n",
       "    <tr>\n",
       "      <th>50%</th>\n",
       "      <td>67.032988</td>\n",
       "      <td>67.682381</td>\n",
       "      <td>1.000000</td>\n",
       "    </tr>\n",
       "    <tr>\n",
       "      <th>75%</th>\n",
       "      <td>80.212529</td>\n",
       "      <td>79.360605</td>\n",
       "      <td>1.000000</td>\n",
       "    </tr>\n",
       "    <tr>\n",
       "      <th>max</th>\n",
       "      <td>99.827858</td>\n",
       "      <td>98.869436</td>\n",
       "      <td>1.000000</td>\n",
       "    </tr>\n",
       "  </tbody>\n",
       "</table>\n",
       "</div>"
      ],
      "text/plain": [
       "          score_1     score_2       label\n",
       "count  100.000000  100.000000  100.000000\n",
       "mean    65.644274   66.221998    0.600000\n",
       "std     19.458222   18.582783    0.492366\n",
       "min     30.058822   30.603263    0.000000\n",
       "25%     50.919511   48.179205    0.000000\n",
       "50%     67.032988   67.682381    1.000000\n",
       "75%     80.212529   79.360605    1.000000\n",
       "max     99.827858   98.869436    1.000000"
      ]
     },
     "execution_count": 6,
     "metadata": {},
     "output_type": "execute_result"
    }
   ],
   "source": [
    "data.describe()                   "
   ]
  },
  {
   "cell_type": "code",
   "execution_count": 7,
   "metadata": {},
   "outputs": [
    {
     "name": "stdout",
     "output_type": "stream",
     "text": [
      "<class 'pandas.core.frame.DataFrame'>\n",
      "RangeIndex: 100 entries, 0 to 99\n",
      "Data columns (total 3 columns):\n",
      " #   Column   Non-Null Count  Dtype  \n",
      "---  ------   --------------  -----  \n",
      " 0   score_1  100 non-null    float64\n",
      " 1   score_2  100 non-null    float64\n",
      " 2   label    100 non-null    int64  \n",
      "dtypes: float64(2), int64(1)\n",
      "memory usage: 2.5 KB\n"
     ]
    }
   ],
   "source": [
    "data.info()                             # Aquí podemos comprobar también la existencia de nulos, además del tipo de las variables ademas de otras cosas."
   ]
  },
  {
   "cell_type": "markdown",
   "metadata": {},
   "source": [
    "#### Creamos 2 objetos para distinguir dentro de la base en primer lugar las notas de las pruebas y a continuación los dictamenes marcados fruto de los resultados en las anteriores"
   ]
  },
  {
   "cell_type": "code",
   "execution_count": 8,
   "metadata": {},
   "outputs": [],
   "source": [
    "notas = data[['score_1', 'score_2']].values                          # Evaluación de las pruebas\n",
    "dictamen = data['label'].values                                      # Elección final"
   ]
  },
  {
   "cell_type": "code",
   "execution_count": 9,
   "metadata": {
    "scrolled": true
   },
   "outputs": [
    {
     "data": {
      "image/png": "[encoded data removed]",
      "text/plain": [
       "<Figure size 432x288 with 1 Axes>"
      ]
     },
     "metadata": {
      "needs_background": "light"
     },
     "output_type": "display_data"
    }
   ],
   "source": [
    "passed = (dictamen == 1).reshape(100, 1)                            # Realizamos una nueva distinción, en este caso entre los\n",
    "failed = (dictamen == 0).reshape(100, 1)                            #   alumnos aprobados y los suspensos.\n",
    "\n",
    "\n",
    "# Ahora realizamos la graficación con las distinciones pautadas\n",
    "\n",
    "ax = snimport.scatterplot(x = notas[passed[:, 0], 0],\n",
    "                     y = notas[passed[:, 0], 1],\n",
    "                     marker = \"+\",\n",
    "                     color = \"red\",\n",
    "                     s = 60)\n",
    "snimport.scatterplot(x = notas[failed[:, 0], 0],\n",
    "                y = notas[failed[:, 0], 1],\n",
    "                marker = \"X\",\n",
    "                color = \"blue\",\n",
    "                s = 60)\n",
    "\n",
    "ax.set(xlabel=\"score_1\", ylabel=\"score_2\")                           # Pedimos que marque cada uno de los ejes como nos parece.\n",
    "ax.legend([\"Passed\", \"Failed\"])                                      # Marcamos que queremos que ponga en la leyenda.\n",
    "plt.show();"
   ]
  },
  {
   "cell_type": "markdown",
   "metadata": {},
   "source": [
    "#### En este caso disponemos de 2 variables respuesta que se corresponden con cada uno de los 2 exámenes. Los resultados de los mismos como hemos indicado arriba se pueden clasificar según su dictamen, solamente con 1 si son aceptados, o cero en caso contrario. Sin embargo uestro objetivo en este caso es minimizar la función de coste."
   ]
  },
  {
   "cell_type": "markdown",
   "metadata": {},
   "source": [
    "## Realizamos la función sigmoide.  \n",
    "#### Esta función se utiliza entre otras cosas para problemas de clasisficación binaria, que es nuestro caso por lo ya explicado. La funcion se utiliza para transformar regresiones lineales de modo que se puedan clasificar. Dan entre 0 y 1 de modo que se pueda calcular la probabilidad de que un hecho pueda llegar a suceder."
   ]
  },
  {
   "cell_type": "code",
   "execution_count": 10,
   "metadata": {},
   "outputs": [],
   "source": [
    "def logistic_function(x):    \n",
    "    return 1/ (1 + np.exp(-x))"
   ]
  },
  {
   "cell_type": "markdown",
   "metadata": {},
   "source": [
    "#### Realizamos ahora su representación gráfica:"
   ]
  },
  {
   "cell_type": "code",
   "execution_count": 11,
   "metadata": {},
   "outputs": [
    {
     "data": {
      "image/png": "[encoded data removed]",
      "text/plain": [
       "<Figure size 432x288 with 1 Axes>"
      ]
     },
     "metadata": {
      "needs_background": "light"
     },
     "output_type": "display_data"
    }
   ],
   "source": [
    "u = np.arange(-10., 10., 1)\n",
    "v = logistic_function(u)\n",
    "plt.plot(u,v)\n",
    "plt.show()"
   ]
  },
  {
   "cell_type": "markdown",
   "metadata": {},
   "source": [
    "## Definición de la función de coste\n",
    "\n",
    "#### definiremos la función sobre la cual buscaremos minimizar en la mayor medida posible. Se asocia a una regresió logítica y se define de la siguiente manera:"
   ]
  },
  {
   "cell_type": "code",
   "execution_count": 12,
   "metadata": {},
   "outputs": [
    {
     "data": {
      "text/html": [
       "<img src = './data/funcion_coste.png',style = 'width:5px' >\n"
      ],
      "text/plain": [
       "<IPython.core.display.HTML object>"
      ]
     },
     "metadata": {},
     "output_type": "display_data"
    }
   ],
   "source": [
    "%%html\n",
    "<img src = './data/funcion_coste.png',style = 'width:5px' >"
   ]
  },
  {
   "cell_type": "markdown",
   "metadata": {},
   "source": [
    "#### También vamos a incluir el gradiente, el cual se calculará y se incluirá dentro de la misma, para ello necesitaremos la realización de darivadas parciales sobra la funcvión anteriormente indicada."
   ]
  },
  {
   "cell_type": "markdown",
   "metadata": {},
   "source": [
    "#### La derivada nos indica la inclinación que se da dentro de la función. En nuestro caso se dirigirá de forma contraria al gradiente, ya que lo que buscamos es minimizar la función. 1º Calculamos los gradientes G mediante derivadas parciales  G = ∂J(W)/∂W.\n",
    "#### 2º actualizamos los pesos para cada iteración de modo que: theta = theta - learning_rate*G\n",
    "#### 3º repetimos el proceso el número de veces que se considere pertinente, o bien hasta que se consiga la convergencia"
   ]
  },
  {
   "cell_type": "code",
   "execution_count": 13,
   "metadata": {},
   "outputs": [],
   "source": [
    "def compute_cost(theta, x, y):                                           # Damos los parámetros que utilizará la función\n",
    "    m = len(y)                                                           # m será igual al número de observaciones de y\n",
    "    y_pred = logistic_function(np.dot(x , theta))\n",
    "    error = (y * np.log(y_pred)) + ((1 - y) * np.log(1 - y_pred))        # marcamos el error, que es la función de coste sin el término anterior al sumatorio\n",
    "    cost = -1 / m * sum(error)                                           # Incluimos el coste, -1 / len(y) por la sum del error\n",
    "    gradient = 1 / m * np.dot(x.transpose(), (y_pred - y))               # Juntamos ambas funciones para el gradiente\n",
    "    return cost[0] , gradient                                            # Solicitamos ambos resultados"
   ]
  },
  {
   "cell_type": "markdown",
   "metadata": {},
   "source": [
    "#### Realizaremos las primeras pautas para las mismas. Antes tendremos que marcar algunos puntos dentro de la base de datos para su posible realización efectiva"
   ]
  },
  {
   "cell_type": "code",
   "execution_count": 14,
   "metadata": {},
   "outputs": [
    {
     "name": "stdout",
     "output_type": "stream",
     "text": [
      "Primer coste :  0.693147180559946\n",
      "Gradiente :  [[-0.1       ]\n",
      " [-0.28122914]\n",
      " [-0.25098615]]\n"
     ]
    }
   ],
   "source": [
    "mean_scores = np.mean(notas, axis=0)                        # Caalculamos la media de las notas                  \n",
    "std_scores = np.std(notas, axis=0)                          # También su desviación típica\n",
    "scores = (notas - mean_scores) / std_scores                 # Realizamos su respectiva normalización\n",
    "\n",
    "rows = scores.shape[0]                                      # Pedimos tanto las filas como las columnas\n",
    "cols = scores.shape[1]\n",
    "\n",
    "X = np.append(np.ones((rows, 1)), scores, axis=1)           # Marcamos el término independiente \n",
    "y = dictamen.reshape(rows, 1)                               # Ordenamos los resultados \n",
    "\n",
    "theta_init = np.zeros((cols + 1, 1))                        # Marcamos parámetros uniciales para theta y también en el coste\n",
    "cost, gradient = compute_cost(theta_init, X, y)\n",
    "\n",
    "print(\"Primer coste : \", cost)                              # Solicitamos los resultados de cada uno\n",
    "print(\"Gradiente : \", gradient)"
   ]
  },
  {
   "cell_type": "markdown",
   "metadata": {},
   "source": [
    "## Descenso del gradiente:\n",
    "#### Se trata de un algoritmo de optimización utilizado para minimizar  funciones. Se desplaza un número determinado de veces en función del número de iteraciones en sentido descendente al ponerle un signo negativo."
   ]
  },
  {
   "cell_type": "code",
   "execution_count": 15,
   "metadata": {},
   "outputs": [],
   "source": [
    "def gradient_descent(x, y, theta, alpha, iterations):                    # Marcamos de qué dependerá la función\n",
    "    costs = []\n",
    "    for i in range(iterations):                                          # Queremos que recorra ambas funciones\n",
    "        cost, gradient = compute_cost(theta, x, y)                       # Queremos que el coste se reduzca a medida que baja el gradiente\n",
    "        theta -= (alpha * gradient)                                      # Queremos que theta recoja también alpha, que será nuestra tasa de aprendizaje. Por ello los multiplicaremos\n",
    "        costs.append(cost)                                               # Queremos que estos se vayan añadiendo. \n",
    "    return theta, costs"
   ]
  },
  {
   "cell_type": "markdown",
   "metadata": {},
   "source": [
    "#### A continuación marcaremos las primeras cifras para obtener algunos resultados"
   ]
  },
  {
   "cell_type": "code",
   "execution_count": 17,
   "metadata": {},
   "outputs": [],
   "source": [
    "theta, costs = gradient_descent(X, y, theta_init, 0.7, 200)       # alpha se marcará entre 0 y 1 mientras que en las iteraciones marcaremos las que estimemos oportunas."
   ]
  },
  {
   "cell_type": "code",
   "execution_count": 18,
   "metadata": {},
   "outputs": [
    {
     "name": "stdout",
     "output_type": "stream",
     "text": [
      "Theta después del descendo del gradiente: [[1.39505009]\n",
      " [3.30786657]\n",
      " [3.06293714]]\n",
      "Resultado del coste: 0.20698456963509276\n"
     ]
    }
   ],
   "source": [
    "print(\"Theta después del descendo del gradiente:\", theta)         # Pedimos que nos imprima cada uno\n",
    "print(\"Resultado del coste:\", costs[-1])"
   ]
  },
  {
   "cell_type": "markdown",
   "metadata": {},
   "source": [
    "#### Graficamos la convergencia \n",
    "\n"
   ]
  },
  {
   "cell_type": "code",
   "execution_count": 19,
   "metadata": {},
   "outputs": [
    {
     "data": {
      "image/png": "[encoded data removed]",
      "text/plain": [
       "<Figure size 432x288 with 1 Axes>"
      ]
     },
     "metadata": {
      "needs_background": "light"
     },
     "output_type": "display_data"
    }
   ],
   "source": [
    "plt.plot(costs) \n",
    "plt.xlabel(\"Iterations\")                                                 # Marcamos cada uno de los ejes\n",
    "plt.ylabel(\"$J(\\Theta)$\")                                                # Marcamos el coste\n",
    "plt.title(\"Coste de iteraciones del descenso del gradiente\");            # Marcamos también el título"
   ]
  },
  {
   "cell_type": "markdown",
   "metadata": {},
   "source": [
    "#### Podemos comprobar en primer lugar como la utilidad marginal de cada iteracción es claramente decreciente. Por ello vemos que la forma de la gráfica hace como una l, que se irá aplanando a medida que la iteraciones las reducimos   "
   ]
  },
  {
   "cell_type": "markdown",
   "metadata": {},
   "source": [
    "### Ahora vamos a ver el coste obtenido si disminuimos el valor de alpha  manteniendo las iteraciones. Es decir, vamos a reducir el tamaño de los pasos que vamos a dar según la analogía que se utilizó en clase. "
   ]
  },
  {
   "cell_type": "code",
   "execution_count": 20,
   "metadata": {},
   "outputs": [],
   "source": [
    "theta, costs = gradient_descent(X, y, theta_init, 0.5, 200)                 "
   ]
  },
  {
   "cell_type": "code",
   "execution_count": 21,
   "metadata": {},
   "outputs": [
    {
     "name": "stdout",
     "output_type": "stream",
     "text": [
      "Theta después del descendo del gradiente: [[1.55689561]\n",
      " [3.64922981]\n",
      " [3.39279084]]\n",
      "Resultado del coste: 0.20430018581593704\n"
     ]
    }
   ],
   "source": [
    "print(\"Theta después del descendo del gradiente:\", theta)\n",
    "print(\"Resultado del coste:\", costs[-1])"
   ]
  },
  {
   "cell_type": "code",
   "execution_count": 22,
   "metadata": {},
   "outputs": [
    {
     "data": {
      "image/png": "[encoded data removed]",
      "text/plain": [
       "<Figure size 432x288 with 1 Axes>"
      ]
     },
     "metadata": {
      "needs_background": "light"
     },
     "output_type": "display_data"
    }
   ],
   "source": [
    "plt.plot(costs)\n",
    "plt.xlabel(\"Iterations\")\n",
    "plt.ylabel(\"$J(\\Theta)$\")\n",
    "plt.title(\"Coste de iteraciones del descenso del gradiente\");"
   ]
  },
  {
   "cell_type": "markdown",
   "metadata": {},
   "source": [
    "#### Podemos comprobar como reduciendo el valor de alpha hemos conseguido disminuir el valor del coste ligeramente. Se puede ver comparando ambas gráficas como en la 1º respecto a la 2º la varianza en las primeras iteraciones se reduce más rapido, dado que realiza  'pasos'  más grandes.\n",
    "#### Vemos que a medida que se dan más iteraciones, la 1º va siendo cada vez menos efectiva a la hora de minimizar el coste."
   ]
  },
  {
   "cell_type": "markdown",
   "metadata": {},
   "source": [
    "### A continuación vamos a subir el numero de iteracciones para ver si podemos disminuir el coste en mayor medida"
   ]
  },
  {
   "cell_type": "code",
   "execution_count": 23,
   "metadata": {},
   "outputs": [],
   "source": [
    "theta, costs = gradient_descent(X, y, theta_init, 0.5, 400) "
   ]
  },
  {
   "cell_type": "code",
   "execution_count": 24,
   "metadata": {},
   "outputs": [
    {
     "name": "stdout",
     "output_type": "stream",
     "text": [
      "Theta después del descendo del gradiente: [[1.67180359]\n",
      " [3.89329967]\n",
      " [3.62887189]]\n",
      "Resultado del coste: 0.2035612415516126\n"
     ]
    }
   ],
   "source": [
    "print(\"Theta después del descendo del gradiente:\", theta)\n",
    "print(\"Resultado del coste:\", costs[-1])"
   ]
  },
  {
   "cell_type": "code",
   "execution_count": 25,
   "metadata": {},
   "outputs": [
    {
     "data": {
      "image/png": "[encoded data removed]",
      "text/plain": [
       "<Figure size 432x288 with 1 Axes>"
      ]
     },
     "metadata": {
      "needs_background": "light"
     },
     "output_type": "display_data"
    }
   ],
   "source": [
    "plt.plot(costs)\n",
    "plt.xlabel(\"Iterations\")\n",
    "plt.ylabel(\"$J(\\Theta)$\")\n",
    "plt.title(\"Coste de iteraciones del descenso del gradiente\");"
   ]
  },
  {
   "cell_type": "markdown",
   "metadata": {},
   "source": [
    "#### Comprobamos como con el mismo alpha que en la anterior, y con más iteraciones es capaz de reducir la función. Hecho lógico ya que da más 'pasos' con el mismo alpha."
   ]
  },
  {
   "cell_type": "code",
   "execution_count": 26,
   "metadata": {},
   "outputs": [],
   "source": [
    "theta, costs = gradient_descent(X, y, theta_init, 0.7, 400) "
   ]
  },
  {
   "cell_type": "code",
   "execution_count": 27,
   "metadata": {},
   "outputs": [
    {
     "name": "stdout",
     "output_type": "stream",
     "text": [
      "Theta después del descendo del gradiente: [[1.70950712]\n",
      " [3.97369679]\n",
      " [3.70666316]]\n",
      "Resultado del coste: 0.2035000043386992\n"
     ]
    }
   ],
   "source": [
    "print(\"Theta después del descendo del gradiente:\", theta)\n",
    "print(\"Resultado del coste:\", costs[-1])"
   ]
  },
  {
   "cell_type": "code",
   "execution_count": 28,
   "metadata": {},
   "outputs": [
    {
     "data": {
      "image/png": "[encoded data removed]",
      "text/plain": [
       "<Figure size 432x288 with 1 Axes>"
      ]
     },
     "metadata": {
      "needs_background": "light"
     },
     "output_type": "display_data"
    }
   ],
   "source": [
    "plt.plot(costs)\n",
    "plt.xlabel(\"Iterations\")\n",
    "plt.ylabel(\"$J(\\Theta)$\")\n",
    "plt.title(\"Coste de iteraciones del descenso del gradiente\");"
   ]
  },
  {
   "cell_type": "markdown",
   "metadata": {},
   "source": [
    "#### Este punto nos parece muy interesante de cara a ver lo minucioso que hay que ser en este tipo de labores.\n",
    "#### En la primera comparativa de gráfica podíamos ver como con un menor alpha y 200 iteraciones conseguíamos reducir el coste. Sin embargo aquí vemos que con 400 iteraciones y un mayor alpha conseguimos reducirlo de nuevo. Con esto queremos dar a entender que a la hora de querer optimizar no podemos dar nada por supuesto, y más teniendo en cuenta el hecho de que la base de datos que estamos tratando en este caso no posee una cantidad de datos elevada."
   ]
  },
  {
   "cell_type": "markdown",
   "metadata": {},
   "source": [
    "### Referencias"
   ]
  },
  {
   "cell_type": "markdown",
   "metadata": {},
   "source": [
    "***Gradient descent in Python. recuperado a partir de https://towardsdatascience.com/gradient-descent-in-python-a0d07285742f el dia 10/11/2020***\n",
    "\n",
    "***Implement gradient descent in python. recuperado a partir de https://towardsdatascience.com/implement-gradient-descent-in-python-9b93ed7108d1  recuperado el dia 10/11/2020***\n",
    "\n",
    "***Linear regression and gradient descent https://www.blueclaw.co.uk/2020/06/12/an-overview-of-linear-regression-and-gradient-descent-in-python-using-google-ads-data/ recuperado el día 1/11/2020*** \n",
    "\n",
    "***Tesis, Vazquez Morales J.A. https://www.fcfm.buap.mx/assets/docs/docencia/tesis/ma/JuanAntonioVazquezMorales.pdf recuperado de (p.29-32) el día 10/11/2020***\n",
    "\n",
    "***Ejemplo del descenso del gradiente. https://github.com/lmntrixsid/Linear-and-Logistic-Regression-with-NumPy-and-Python/blob/master/Logistic_Regression_Completed.ipynb recuperado el día 11/10/2020***"
   ]
  }
 ],
 "metadata": {
  "kernelspec": {
   "display_name": "'gradient'",
   "language": "python",
   "name": "gradient"
  },
  "language_info": {
   "codemirror_mode": {
    "name": "ipython",
    "version": 3
   },
   "file_extension": ".py",
   "mimetype": "text/x-python",
   "name": "python",
   "nbconvert_exporter": "python",
   "pygments_lexer": "ipython3",
   "version": "3.8.5"
  }
 },
 "nbformat": 4,
 "nbformat_minor": 4
}
